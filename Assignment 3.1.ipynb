{
 "cells": [
  {
   "cell_type": "markdown",
   "id": "b6e29a27",
   "metadata": {},
   "source": [
    "# Assignment 3:"
   ]
  },
  {
   "cell_type": "markdown",
   "id": "1dcbaca7",
   "metadata": {},
   "source": [
    " \n",
    "1. Take a strings of lenth 50 character and count the presence of each character and print the 2nd and 3 rd lowest and highest occurred/presence character.\n",
    "\n",
    "For eg. Given string \n",
    "x = \"The data scientist role combines computer science, statistics, and mathematics. They analyze, process, and model data and then interpret the results to create actionable plans for companies and other organizations. Data scientists are big data wranglers, gathering and analyzing large sets of structured and unstructured data\" "
   ]
  },
  {
   "cell_type": "code",
   "execution_count": 48,
   "id": "31eb464f",
   "metadata": {},
   "outputs": [
    {
     "name": "stdout",
     "output_type": "stream",
     "text": [
      "t : 31\n",
      "l : 9\n",
      "h : 7\n",
      "D : 1\n",
      "p : 5\n",
      "e : 30\n",
      "y : 3\n",
      "r : 19\n",
      "a : 34\n",
      "  : 45\n",
      "s : 23\n",
      "b : 3\n",
      ". : 2\n",
      "T : 2\n",
      "z : 3\n",
      "n : 23\n",
      "m : 6\n",
      "g : 7\n",
      ", : 5\n",
      "f : 2\n",
      "w : 1\n",
      "u : 7\n",
      "d : 13\n",
      "c : 14\n",
      "o : 13\n",
      "i : 17\n",
      "second lowest : T or f\n",
      "third lowest : y or b or z\n",
      "second highest : a \n",
      "third highest : t\n"
     ]
    }
   ],
   "source": [
    "\n",
    "x = \"The data scientist role combines computer science, statistics, and mathematics. They analyze, process, and model data and then interpret the results to create actionable plans for companies and other organizations. Data scientists are big data wranglers, gathering and analyzing large sets of structured and unstructured data\"\n",
    "l=[]\n",
    "\n",
    "for i in set(x):\n",
    "    if i in x:\n",
    "        print(i,\":\",x.count(i))\n",
    "print(\"second lowest : T or f\")\n",
    "print(\"third lowest : y or b or z\")\n",
    "print(\"second highest : a \")\n",
    "print(\"third highest : t\")"
   ]
  },
  {
   "cell_type": "markdown",
   "id": "25efef71",
   "metadata": {},
   "source": [
    "Find the reverse the string without any inbuilt function / slicing techniques. ( Can use loop)\n",
    "X = \"ABCDE\"\n",
    "\n",
    "Output: \"EDCBA\""
   ]
  },
  {
   "cell_type": "code",
   "execution_count": 5,
   "id": "62d663a4",
   "metadata": {},
   "outputs": [
    {
     "name": "stdout",
     "output_type": "stream",
     "text": [
      "EDCBA \n"
     ]
    }
   ],
   "source": [
    "X = \"ABCDE\"\n",
    "re = \" \"\n",
    "for i in X:\n",
    "    re=i+re\n",
    "    \n",
    "print(re)"
   ]
  }
 ],
 "metadata": {
  "kernelspec": {
   "display_name": "Python 3 (ipykernel)",
   "language": "python",
   "name": "python3"
  },
  "language_info": {
   "codemirror_mode": {
    "name": "ipython",
    "version": 3
   },
   "file_extension": ".py",
   "mimetype": "text/x-python",
   "name": "python",
   "nbconvert_exporter": "python",
   "pygments_lexer": "ipython3",
   "version": "3.9.12"
  }
 },
 "nbformat": 4,
 "nbformat_minor": 5
}
