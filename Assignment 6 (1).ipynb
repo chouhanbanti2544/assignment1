{
 "cells": [
  {
   "cell_type": "markdown",
   "id": "afb4d372",
   "metadata": {},
   "source": [
    "1. Remove empty strings from a list of strings\n",
    "\n",
    "X = [\"abc\", \" \", 'hello', \"    \", \"do\"]\n",
    "\n",
    "Output = [\"abc\", 'hello', \"do\"]\n"
   ]
  },
  {
   "cell_type": "code",
   "execution_count": 15,
   "id": "07b7a909",
   "metadata": {},
   "outputs": [
    {
     "name": "stdout",
     "output_type": "stream",
     "text": [
      "['abc', 'hello', 'do']\n"
     ]
    }
   ],
   "source": [
    "X = [\"abc\", \" \", 'hello', \"    \", \"do\"]\n",
    "l=[]\n",
    "for i in X:\n",
    "    if i==\"abc\" or i=='hello' or i==\"do\":\n",
    "        l.append(i)\n",
    "print(l)    "
   ]
  },
  {
   "cell_type": "markdown",
   "id": "1bc67618",
   "metadata": {},
   "source": [
    "2. Write a program to display the largest word from the string."
   ]
  },
  {
   "cell_type": "code",
   "execution_count": 16,
   "id": "c668e6a9",
   "metadata": {},
   "outputs": [
    {
     "name": "stdout",
     "output_type": "stream",
     "text": [
      "Enter a line of string - This is very good things\n",
      "largest word in string -  things\n",
      "small word in string -  is\n"
     ]
    }
   ],
   "source": [
    "str=input(\"Enter a line of string - \")\n",
    "word=str.split()\n",
    "largest=small=word[0]\n",
    "for i in range(0,len(word)):\n",
    "    if len(largest)<len(word[i]):\n",
    "        largest=word[i]\n",
    "    if len(largest)>len(word[i]):\n",
    "        small=word[i]\n",
    "print(\"largest word in string - \", largest)\n",
    "print(\"small word in string - \", small)"
   ]
  },
  {
   "cell_type": "markdown",
   "id": "228deb1d",
   "metadata": {},
   "source": [
    "3.Write a python program to sort letters of word by lower to upper case format.\n",
    "\n",
    "X = pytHOnloBBy\n",
    "\n",
    "Output=  p y t n l o y H O B B"
   ]
  },
  {
   "cell_type": "code",
   "execution_count": 18,
   "id": "f5551444",
   "metadata": {},
   "outputs": [
    {
     "name": "stdout",
     "output_type": "stream",
     "text": [
      "pytnloyHOBB\n"
     ]
    }
   ],
   "source": [
    "x=\"pytHOnloBBy\"  #pytnloyHOBB\n",
    "j=[]\n",
    "q=\"\"\n",
    "\n",
    "for i in x:\n",
    "    if i==\"p\" or i==\"y\" or i==\"t\" or i==\"n\" or i==\"l\" or i==\"o\":\n",
    "        j.append(i)\n",
    "        q=q+i\n",
    "\n",
    "z=[]\n",
    "w=\"\"\n",
    "for u in x:\n",
    "        if u==\"H\" or u==\"O\" or u==\"B\":\n",
    "            z.append(u)\n",
    "            w=w+u\n",
    "            \n",
    "f=q+w\n",
    "print(f)"
   ]
  },
  {
   "cell_type": "markdown",
   "id": "014ea96c",
   "metadata": {},
   "source": [
    "4. Python program to search a specific word in a string.\n",
    "\n",
    "Hint \n",
    "\n",
    "Input:\n",
    "Enter a String:  I am a boy\n",
    "Enter a word to search: boy     "
   ]
  },
  {
   "cell_type": "code",
   "execution_count": 19,
   "id": "24f0c367",
   "metadata": {},
   "outputs": [
    {
     "name": "stdout",
     "output_type": "stream",
     "text": [
      "Enter a String - I am a boy\n",
      "Enter a word to search - boy\n",
      "boy exists in string\n"
     ]
    }
   ],
   "source": [
    "u = input(\"Enter a String - \")\n",
    "t = u.split()\n",
    "h=input(\"Enter a word to search - \")\n",
    "if h in t:\n",
    "         print(h,\"exists in string\")\n",
    "\n",
    "else:\n",
    "    print(\"not exists in string\")"
   ]
  },
  {
   "cell_type": "markdown",
   "id": "b763d119",
   "metadata": {},
   "source": [
    "5. Write a program to remove duplicates in a string.\n",
    "Hint \n",
    "Input: pythonlobby\n",
    "\n",
    "Expected output\n",
    "Result is: p y t h o n l b"
   ]
  },
  {
   "cell_type": "code",
   "execution_count": 20,
   "id": "7f4daf8c",
   "metadata": {},
   "outputs": [
    {
     "name": "stdout",
     "output_type": "stream",
     "text": [
      "pythonlb\n"
     ]
    }
   ],
   "source": [
    "u = \"pythonlobby\"\n",
    "k=0\n",
    "z=\"\"\n",
    "for i in u:\n",
    "    if u.index(i)==k:\n",
    "        z=z+i\n",
    "    k=k+1\n",
    "print(z)"
   ]
  },
  {
   "cell_type": "markdown",
   "id": "f5a8e3fb",
   "metadata": {},
   "source": [
    "6. Write a program that takes your full name as input and displays the abbreviations of the first and middle names except the last name which is displayed as it is. For example, if your name is Robert Brett Roser, then the output should be R.B.Roser.\n"
   ]
  },
  {
   "cell_type": "code",
   "execution_count": 21,
   "id": "c06b6742",
   "metadata": {},
   "outputs": [
    {
     "name": "stdout",
     "output_type": "stream",
     "text": [
      "Enter your full name - Banti Singh Chouhan\n",
      "B . S . Chouhan\n"
     ]
    }
   ],
   "source": [
    "h = input(\"Enter your full name - \")\n",
    "g=h.split()\n",
    "print(g[0][0],\".\",g[1][0],\".\",g[2])\n"
   ]
  }
 ],
 "metadata": {
  "kernelspec": {
   "display_name": "Python 3 (ipykernel)",
   "language": "python",
   "name": "python3"
  },
  "language_info": {
   "codemirror_mode": {
    "name": "ipython",
    "version": 3
   },
   "file_extension": ".py",
   "mimetype": "text/x-python",
   "name": "python",
   "nbconvert_exporter": "python",
   "pygments_lexer": "ipython3",
   "version": "3.9.12"
  }
 },
 "nbformat": 4,
 "nbformat_minor": 5
}
