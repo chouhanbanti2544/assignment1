{
 "cells": [
  {
   "cell_type": "markdown",
   "id": "59458407",
   "metadata": {},
   "source": [
    "# Assignment 4"
   ]
  },
  {
   "cell_type": "markdown",
   "id": "2e544d16",
   "metadata": {},
   "source": [
    "Q1. write a python code to check if it is palindrome or not. A string is said to be palindrome if the reverse of the string is the same as string.\n",
    "For eg: Input : AABBAA Output : Yes\n",
    "Input : ABCD Output : No"
   ]
  },
  {
   "cell_type": "code",
   "execution_count": 62,
   "id": "53f1a966",
   "metadata": {},
   "outputs": [
    {
     "name": "stdout",
     "output_type": "stream",
     "text": [
      "yes\n"
     ]
    }
   ],
   "source": [
    "strings = '1lol1'\n",
    "if strings == strings[::-1]:\n",
    "    print('yes')\n",
    "else:\n",
    "    print('no')"
   ]
  },
  {
   "cell_type": "markdown",
   "id": "6e81f46f",
   "metadata": {},
   "source": [
    "Q2. write a python code to calculate sum of odd number less than 10.  "
   ]
  },
  {
   "cell_type": "code",
   "execution_count": 1,
   "id": "2cacd303",
   "metadata": {},
   "outputs": [
    {
     "name": "stdout",
     "output_type": "stream",
     "text": [
      "20\n",
      "81\n"
     ]
    }
   ],
   "source": [
    "numbers = (1, 2, 3, 4, 5, 6, 7, 8, 9)\n",
    "l=[]\n",
    "sum=0\n",
    "for i in numbers:\n",
    "    if i%2==0:\n",
    "        l.append(i)\n",
    "        sum=i+sum\n",
    "k=[]\n",
    "sum1=0\n",
    "for j in numbers:\n",
    "    if j!=0:\n",
    "        k.append(j)\n",
    "        sum1=i+sum1\n",
    "\n",
    "print(sum)\n",
    "print(sum1)"
   ]
  },
  {
   "cell_type": "markdown",
   "id": "0401971d",
   "metadata": {},
   "source": [
    "Q3. Write a Python Program to Check whether number is a Prime Number or not"
   ]
  },
  {
   "cell_type": "code",
   "execution_count": 65,
   "id": "397dfa84",
   "metadata": {},
   "outputs": [
    {
     "name": "stdout",
     "output_type": "stream",
     "text": [
      "Enter your num: 10\n",
      "Not prime \n"
     ]
    }
   ],
   "source": [
    "n=int(input(\"Enter your num: \"))\n",
    "\n",
    "for i in range(2,n):\n",
    "    if n%i ==0:\n",
    "        print(\"Not prime \")\n",
    "        break\n",
    "    \n",
    "    else:\n",
    "        print(\"Is prime\")\n",
    "    "
   ]
  },
  {
   "cell_type": "markdown",
   "id": "574370b8",
   "metadata": {},
   "source": [
    "Q. 4 write a python code to check which number is divisible by 5 and if the number is divisible by 5 then check whether number is divisible by 20 or not. If divisible then print the list of number.\n",
    "\n",
    "Input = [ 10,20,30,40,50,60,70,80,90,100, 200,300,400,500,600,700,800,900,1000]"
   ]
  },
  {
   "cell_type": "code",
   "execution_count": 10,
   "id": "a3addb6e",
   "metadata": {},
   "outputs": [
    {
     "name": "stdout",
     "output_type": "stream",
     "text": [
      "[20, 40, 60, 80, 100, 200, 300, 400, 500, 600, 700, 800, 900, 1000]\n"
     ]
    }
   ],
   "source": [
    "Input = [ 10,20,30,40,50,60,70,80,90,100, 200,300,400,500,600,700,800,900,1000]\n",
    "k =[]\n",
    "for i in Input:\n",
    "    if (i%5==0) and (i%20==0):\n",
    "        k.append(i)\n",
    "print(k)"
   ]
  },
  {
   "cell_type": "code",
   "execution_count": null,
   "id": "cb2edf7d",
   "metadata": {},
   "outputs": [],
   "source": []
  }
 ],
 "metadata": {
  "kernelspec": {
   "display_name": "Python 3 (ipykernel)",
   "language": "python",
   "name": "python3"
  },
  "language_info": {
   "codemirror_mode": {
    "name": "ipython",
    "version": 3
   },
   "file_extension": ".py",
   "mimetype": "text/x-python",
   "name": "python",
   "nbconvert_exporter": "python",
   "pygments_lexer": "ipython3",
   "version": "3.9.12"
  }
 },
 "nbformat": 4,
 "nbformat_minor": 5
}
