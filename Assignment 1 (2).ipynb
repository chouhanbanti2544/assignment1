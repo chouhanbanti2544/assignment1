{
 "cells": [
  {
   "cell_type": "markdown",
   "id": "83c79240",
   "metadata": {},
   "source": [
    "# Assignment 1 "
   ]
  },
  {
   "cell_type": "markdown",
   "id": "edb93368",
   "metadata": {},
   "source": [
    "Q.1            \n",
    "Write a Python program to get the Fibonacci series between 0 to 50\n",
    "Note : The Fibonacci Sequence is the series of numbers :\n",
    "0, 1, 1, 2, 3, 5, 8, 13, 21, ....\n",
    "Every next number is found by adding up the two numbers before it.\n",
    "Expected Output : 1 1 2 3 5 8 13 21 34"
   ]
  },
  {
   "cell_type": "code",
   "execution_count": 2,
   "id": "38eb5c7b",
   "metadata": {},
   "outputs": [
    {
     "name": "stdout",
     "output_type": "stream",
     "text": [
      "[1, 1, 2, 3, 5, 8, 13, 21, 34, 55]\n"
     ]
    }
   ],
   "source": [
    "def fib(n):\n",
    "    a = 1\n",
    "    b = 1\n",
    "    l = []\n",
    "    for i in range(n):\n",
    "        l.append(a)\n",
    "        a,b = b,a+b\n",
    "    return l\n",
    "print(fib(10))\n"
   ]
  },
  {
   "cell_type": "markdown",
   "id": "170f0f70",
   "metadata": {},
   "source": [
    "Q.2 Write a Python program that accepts a word from the user and reverse it.\n",
    "Sample Test Case\n",
    "Input : Hello \n",
    "output: olleH"
   ]
  },
  {
   "cell_type": "code",
   "execution_count": 3,
   "id": "1cc07878",
   "metadata": {},
   "outputs": [
    {
     "name": "stdout",
     "output_type": "stream",
     "text": [
      "olleH \n"
     ]
    }
   ],
   "source": [
    "h = \"Hello\"\n",
    "l=\" \"\n",
    "for i in h:\n",
    "    l=i+l\n",
    "print(l)"
   ]
  },
  {
   "cell_type": "markdown",
   "id": "b8acefce",
   "metadata": {},
   "source": [
    "Q.3 Write a Python program to count the number of even and odd numbers from a series of numbers.\n",
    "Sample numbers : numbers = (1, 2, 3, 4, 5, 6, 7, 8, 9) \n",
    "Expected Output :\n",
    "Number of even numbers : 4\n",
    "Number of odd numbers : 5"
   ]
  },
  {
   "cell_type": "code",
   "execution_count": 8,
   "id": "d55a5013",
   "metadata": {},
   "outputs": [
    {
     "name": "stdout",
     "output_type": "stream",
     "text": [
      "even number [2, 4, 6, 8]\n",
      "number of even numbers: 4\n",
      "odd number: [1, 3, 5, 7, 9]\n",
      "number of odd numbers: 5\n"
     ]
    }
   ],
   "source": [
    "numbers = (1, 2, 3, 4, 5, 6, 7, 8, 9)\n",
    "l=[]\n",
    "\n",
    "for i in range(len(numbers)):\n",
    "    if numbers[i]%2==0:\n",
    "        l.append(numbers[i])\n",
    "\n",
    "\n",
    "print(\"even number\",l)\n",
    "print(\"number of even numbers:\",len(l))\n",
    "\n",
    "\n",
    "odd=[]\n",
    "for j in numbers:\n",
    "    if j%2!=0:\n",
    "        odd.append(j)\n",
    "\n",
    "print(\"odd number:\",odd)      \n",
    "print(\"number of odd numbers:\",len(odd))"
   ]
  }
 ],
 "metadata": {
  "kernelspec": {
   "display_name": "Python 3 (ipykernel)",
   "language": "python",
   "name": "python3"
  },
  "language_info": {
   "codemirror_mode": {
    "name": "ipython",
    "version": 3
   },
   "file_extension": ".py",
   "mimetype": "text/x-python",
   "name": "python",
   "nbconvert_exporter": "python",
   "pygments_lexer": "ipython3",
   "version": "3.9.12"
  }
 },
 "nbformat": 4,
 "nbformat_minor": 5
}
